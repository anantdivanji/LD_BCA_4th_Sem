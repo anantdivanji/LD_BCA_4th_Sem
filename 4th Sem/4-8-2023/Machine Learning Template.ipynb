{
 "cells": [
  {
   "cell_type": "markdown",
   "id": "2418babb",
   "metadata": {},
   "source": [
    "# Step 1 : Import all the standard libraries"
   ]
  },
  {
   "cell_type": "markdown",
   "id": "ed0e7ae2",
   "metadata": {},
   "source": [
    "# Step 2 : Loading the dataset\n",
    "### Defining Problem Statement\n",
    "### Identifying independent and target variables"
   ]
  },
  {
   "cell_type": "markdown",
   "id": "6785ffb8",
   "metadata": {},
   "source": [
    "# Step 3 : Data Cleaning, Data Preprocessing"
   ]
  },
  {
   "cell_type": "markdown",
   "id": "75aa23ef",
   "metadata": {},
   "source": [
    "# Step 4 : Seperate X(Independent Variable) and y(Dependent Variable)"
   ]
  },
  {
   "cell_type": "markdown",
   "id": "ca6dcda8",
   "metadata": {},
   "source": [
    "# Step 5 : Divide the data into train set and test set"
   ]
  },
  {
   "cell_type": "markdown",
   "id": "78d043f2",
   "metadata": {},
   "source": [
    "# Step 6 : Fit ML model on X_train and y_train"
   ]
  },
  {
   "cell_type": "markdown",
   "id": "b1f603bd",
   "metadata": {},
   "source": [
    "# Step 7 : Perform predictions on X_test"
   ]
  },
  {
   "cell_type": "markdown",
   "id": "9b9ebfdc",
   "metadata": {},
   "source": [
    "# Step 8 : Performance Evaluation"
   ]
  },
  {
   "cell_type": "code",
   "execution_count": null,
   "id": "b0d6461e",
   "metadata": {},
   "outputs": [],
   "source": []
  }
 ],
 "metadata": {
  "kernelspec": {
   "display_name": "Python 3 (ipykernel)",
   "language": "python",
   "name": "python3"
  },
  "language_info": {
   "codemirror_mode": {
    "name": "ipython",
    "version": 3
   },
   "file_extension": ".py",
   "mimetype": "text/x-python",
   "name": "python",
   "nbconvert_exporter": "python",
   "pygments_lexer": "ipython3",
   "version": "3.9.16"
  }
 },
 "nbformat": 4,
 "nbformat_minor": 5
}
