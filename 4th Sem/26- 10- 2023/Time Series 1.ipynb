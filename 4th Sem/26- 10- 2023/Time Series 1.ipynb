{
 "cells": [
  {
   "cell_type": "code",
   "execution_count": 2,
   "id": "6a5d2302",
   "metadata": {},
   "outputs": [
    {
     "data": {
      "text/plain": [
       "datetime.date(2023, 10, 26)"
      ]
     },
     "execution_count": 2,
     "metadata": {},
     "output_type": "execute_result"
    }
   ],
   "source": [
    "from datetime import date\n",
    " \n",
    "# You can create a date object containing \n",
    "# the current date \n",
    "# by using a classmethod named today()\n",
    "current = date.today() \n",
    "current"
   ]
  },
  {
   "cell_type": "code",
   "execution_count": 3,
   "id": "47c3997d",
   "metadata": {},
   "outputs": [
    {
     "data": {
      "text/plain": [
       "26"
      ]
     },
     "execution_count": 3,
     "metadata": {},
     "output_type": "execute_result"
    }
   ],
   "source": [
    "current.day"
   ]
  },
  {
   "cell_type": "code",
   "execution_count": 4,
   "id": "87528cef",
   "metadata": {},
   "outputs": [
    {
     "data": {
      "text/plain": [
       "10"
      ]
     },
     "execution_count": 4,
     "metadata": {},
     "output_type": "execute_result"
    }
   ],
   "source": [
    "current.month"
   ]
  },
  {
   "cell_type": "code",
   "execution_count": 5,
   "id": "ed5c48aa",
   "metadata": {},
   "outputs": [
    {
     "data": {
      "text/plain": [
       "2023"
      ]
     },
     "execution_count": 5,
     "metadata": {},
     "output_type": "execute_result"
    }
   ],
   "source": [
    "current.year"
   ]
  },
  {
   "cell_type": "code",
   "execution_count": 7,
   "id": "fb9b4fde",
   "metadata": {},
   "outputs": [
    {
     "data": {
      "text/plain": [
       "'10-26-23'"
      ]
     },
     "execution_count": 7,
     "metadata": {},
     "output_type": "execute_result"
    }
   ],
   "source": [
    "current.strftime(\"%m-%d-%y\")"
   ]
  },
  {
   "cell_type": "code",
   "execution_count": 8,
   "id": "e68d261e",
   "metadata": {},
   "outputs": [
    {
     "data": {
      "text/plain": [
       "'26 - 10 - 23'"
      ]
     },
     "execution_count": 8,
     "metadata": {},
     "output_type": "execute_result"
    }
   ],
   "source": [
    "current.strftime(\"%d - %m - %y\")"
   ]
  },
  {
   "cell_type": "code",
   "execution_count": 9,
   "id": "0a01c03a",
   "metadata": {},
   "outputs": [
    {
     "data": {
      "text/plain": [
       "'Oct - 26 - 2023'"
      ]
     },
     "execution_count": 9,
     "metadata": {},
     "output_type": "execute_result"
    }
   ],
   "source": [
    "current.strftime(\"%b - %d - %Y\")"
   ]
  },
  {
   "cell_type": "code",
   "execution_count": 10,
   "id": "7c3d5ffe",
   "metadata": {},
   "outputs": [
    {
     "data": {
      "text/plain": [
       "'October - 26 - 2023'"
      ]
     },
     "execution_count": 10,
     "metadata": {},
     "output_type": "execute_result"
    }
   ],
   "source": [
    "current.strftime(\"%B - %d - %Y\")"
   ]
  },
  {
   "cell_type": "code",
   "execution_count": 11,
   "id": "61048f00",
   "metadata": {},
   "outputs": [
    {
     "name": "stdout",
     "output_type": "stream",
     "text": [
      "default_hour = 0\n",
      "default_minute = 0\n",
      "default_second = 0\n",
      "default_microsecond = 0\n"
     ]
    }
   ],
   "source": [
    "from datetime import time\n",
    " \n",
    "# time() takes hour, minutes, second,\n",
    "# microsecond respectively in order \n",
    "# if no parameter is passed in time() by default\n",
    "# it takes 0 \n",
    "defaultTime = time()\n",
    " \n",
    "print(\"default_hour =\", defaultTime.hour)\n",
    "print(\"default_minute =\", defaultTime.minute)\n",
    "print(\"default_second =\", defaultTime.second)\n",
    "print(\"default_microsecond =\", defaultTime.microsecond)"
   ]
  },
  {
   "cell_type": "code",
   "execution_count": 12,
   "id": "cb2c01b3",
   "metadata": {},
   "outputs": [
    {
     "name": "stdout",
     "output_type": "stream",
     "text": [
      "time_1 = 10:05:25\n"
     ]
    }
   ],
   "source": [
    "time1= time(10, 5, 25)\n",
    "print(\"time_1 =\", time1)"
   ]
  },
  {
   "cell_type": "code",
   "execution_count": 13,
   "id": "1b06a45c",
   "metadata": {},
   "outputs": [
    {
     "name": "stdout",
     "output_type": "stream",
     "text": [
      "time_2 = 10:05:25\n"
     ]
    }
   ],
   "source": [
    "# assigning hour, minute and second to respective\n",
    "# variables\n",
    "time2= time(hour = 10, minute = 5, second = 25)\n",
    "print(\"time_2 =\", time2)"
   ]
  },
  {
   "cell_type": "code",
   "execution_count": 14,
   "id": "5a1320cb",
   "metadata": {},
   "outputs": [
    {
     "name": "stdout",
     "output_type": "stream",
     "text": [
      "time_3 = 10:05:25.000055\n"
     ]
    }
   ],
   "source": [
    "# assigning hour, minute, second and microsecond to\n",
    "# respective variables\n",
    "time3= time(hour=10, minute= 5, second=25, microsecond=55)\n",
    "print(\"time_3 =\", time3)"
   ]
  },
  {
   "cell_type": "code",
   "execution_count": 16,
   "id": "510adb06",
   "metadata": {},
   "outputs": [
    {
     "data": {
      "text/plain": [
       "datetime.datetime(2023, 10, 26, 14, 0, 17, 514109)"
      ]
     },
     "execution_count": 16,
     "metadata": {},
     "output_type": "execute_result"
    }
   ],
   "source": [
    "from datetime import datetime\n",
    " \n",
    "# now() gives current date and time\n",
    "current = datetime.now()\n",
    "current"
   ]
  },
  {
   "cell_type": "code",
   "execution_count": 17,
   "id": "31b40a32",
   "metadata": {},
   "outputs": [
    {
     "data": {
      "text/plain": [
       "26"
      ]
     },
     "execution_count": 17,
     "metadata": {},
     "output_type": "execute_result"
    }
   ],
   "source": [
    "current.day"
   ]
  },
  {
   "cell_type": "code",
   "execution_count": 19,
   "id": "671fe934",
   "metadata": {},
   "outputs": [
    {
     "data": {
      "text/plain": [
       "1698309017.514109"
      ]
     },
     "execution_count": 19,
     "metadata": {},
     "output_type": "execute_result"
    }
   ],
   "source": [
    "current.timestamp()"
   ]
  },
  {
   "cell_type": "code",
   "execution_count": 20,
   "id": "9ababb20",
   "metadata": {},
   "outputs": [
    {
     "name": "stdout",
     "output_type": "stream",
     "text": [
      "Present Date : 2023-10-26 14:44:11.005379\n"
     ]
    }
   ],
   "source": [
    "\n",
    "from datetime import timedelta, datetime\n",
    " \n",
    "present_date_with_time = datetime.now() \n",
    " \n",
    "print(\"Present Date :\", present_date_with_time)"
   ]
  },
  {
   "cell_type": "code",
   "execution_count": 21,
   "id": "0f11d3be",
   "metadata": {},
   "outputs": [
    {
     "name": "stdout",
     "output_type": "stream",
     "text": [
      "Date after 10 days : 2023-11-05 14:44:11.005379\n"
     ]
    }
   ],
   "source": [
    "# coming date after 10 days\n",
    "ten_days_after= present_date_with_time + timedelta(days = 10)\n",
    "print('Date after 10 days :',ten_days_after)"
   ]
  },
  {
   "cell_type": "code",
   "execution_count": 23,
   "id": "779603aa",
   "metadata": {},
   "outputs": [
    {
     "ename": "TypeError",
     "evalue": "'months' is an invalid keyword argument for __new__()",
     "output_type": "error",
     "traceback": [
      "\u001b[1;31m---------------------------------------------------------------------------\u001b[0m",
      "\u001b[1;31mTypeError\u001b[0m                                 Traceback (most recent call last)",
      "Cell \u001b[1;32mIn[23], line 2\u001b[0m\n\u001b[0;32m      1\u001b[0m \u001b[38;5;66;03m# coming date after 10 days\u001b[39;00m\n\u001b[1;32m----> 2\u001b[0m ten_days_after\u001b[38;5;241m=\u001b[39m present_date_with_time \u001b[38;5;241m+\u001b[39m \u001b[43mtimedelta\u001b[49m\u001b[43m(\u001b[49m\u001b[43mmonths\u001b[49m\u001b[43m \u001b[49m\u001b[38;5;241;43m=\u001b[39;49m\u001b[43m \u001b[49m\u001b[38;5;241;43m12\u001b[39;49m\u001b[43m)\u001b[49m\n\u001b[0;32m      3\u001b[0m \u001b[38;5;28mprint\u001b[39m(\u001b[38;5;124m'\u001b[39m\u001b[38;5;124mDate after 10 days :\u001b[39m\u001b[38;5;124m'\u001b[39m,ten_days_after)\n",
      "\u001b[1;31mTypeError\u001b[0m: 'months' is an invalid keyword argument for __new__()"
     ]
    }
   ],
   "source": [
    "# coming date after 10 days\n",
    "ten_days_after= present_date_with_time + timedelta(months = 12)\n",
    "print('Date after 10 days :',ten_days_after)"
   ]
  },
  {
   "cell_type": "code",
   "execution_count": 24,
   "id": "7010a0f1",
   "metadata": {},
   "outputs": [
    {
     "name": "stdout",
     "output_type": "stream",
     "text": [
      "Date after 10 days : 2024-10-25 14:44:11.005379\n"
     ]
    }
   ],
   "source": [
    "# coming date after 10 days\n",
    "ten_days_after= present_date_with_time + timedelta(days = 365)\n",
    "print('Date after 10 days :',ten_days_after)"
   ]
  },
  {
   "cell_type": "code",
   "execution_count": 25,
   "id": "7ab72d57",
   "metadata": {},
   "outputs": [
    {
     "name": "stdout",
     "output_type": "stream",
     "text": [
      "Date after 10 days : 2025-10-25 14:44:11.005379\n"
     ]
    }
   ],
   "source": [
    "# coming date after 10 days\n",
    "ten_days_after= present_date_with_time + timedelta(days = 365) * 2\n",
    "print('Date after 10 days :',ten_days_after)"
   ]
  },
  {
   "cell_type": "code",
   "execution_count": 26,
   "id": "f691b14e",
   "metadata": {},
   "outputs": [],
   "source": [
    "import pandas as pd\n",
    "import numpy as np\n",
    "import matplotlib.pyplot as plt"
   ]
  },
  {
   "cell_type": "code",
   "execution_count": 42,
   "id": "c029ad17",
   "metadata": {},
   "outputs": [
    {
     "data": {
      "text/html": [
       "<div>\n",
       "<style scoped>\n",
       "    .dataframe tbody tr th:only-of-type {\n",
       "        vertical-align: middle;\n",
       "    }\n",
       "\n",
       "    .dataframe tbody tr th {\n",
       "        vertical-align: top;\n",
       "    }\n",
       "\n",
       "    .dataframe thead th {\n",
       "        text-align: right;\n",
       "    }\n",
       "</style>\n",
       "<table border=\"1\" class=\"dataframe\">\n",
       "  <thead>\n",
       "    <tr style=\"text-align: right;\">\n",
       "      <th></th>\n",
       "      <th>Unnamed: 0</th>\n",
       "      <th>Open</th>\n",
       "      <th>High</th>\n",
       "      <th>Low</th>\n",
       "      <th>Close</th>\n",
       "      <th>Volume</th>\n",
       "      <th>Name</th>\n",
       "    </tr>\n",
       "    <tr>\n",
       "      <th>Date</th>\n",
       "      <th></th>\n",
       "      <th></th>\n",
       "      <th></th>\n",
       "      <th></th>\n",
       "      <th></th>\n",
       "      <th></th>\n",
       "      <th></th>\n",
       "    </tr>\n",
       "  </thead>\n",
       "  <tbody>\n",
       "    <tr>\n",
       "      <th>2006-01-03</th>\n",
       "      <td>NaN</td>\n",
       "      <td>39.69</td>\n",
       "      <td>41.22</td>\n",
       "      <td>38.79</td>\n",
       "      <td>40.91</td>\n",
       "      <td>24232729</td>\n",
       "      <td>AABA</td>\n",
       "    </tr>\n",
       "    <tr>\n",
       "      <th>2006-01-04</th>\n",
       "      <td>NaN</td>\n",
       "      <td>41.22</td>\n",
       "      <td>41.90</td>\n",
       "      <td>40.77</td>\n",
       "      <td>40.97</td>\n",
       "      <td>20553479</td>\n",
       "      <td>AABA</td>\n",
       "    </tr>\n",
       "    <tr>\n",
       "      <th>2006-01-05</th>\n",
       "      <td>NaN</td>\n",
       "      <td>40.93</td>\n",
       "      <td>41.73</td>\n",
       "      <td>40.85</td>\n",
       "      <td>41.53</td>\n",
       "      <td>12829610</td>\n",
       "      <td>AABA</td>\n",
       "    </tr>\n",
       "    <tr>\n",
       "      <th>2006-01-06</th>\n",
       "      <td>NaN</td>\n",
       "      <td>42.88</td>\n",
       "      <td>43.57</td>\n",
       "      <td>42.80</td>\n",
       "      <td>43.21</td>\n",
       "      <td>29422828</td>\n",
       "      <td>AABA</td>\n",
       "    </tr>\n",
       "    <tr>\n",
       "      <th>2006-01-09</th>\n",
       "      <td>NaN</td>\n",
       "      <td>43.10</td>\n",
       "      <td>43.66</td>\n",
       "      <td>42.82</td>\n",
       "      <td>43.42</td>\n",
       "      <td>16268338</td>\n",
       "      <td>AABA</td>\n",
       "    </tr>\n",
       "  </tbody>\n",
       "</table>\n",
       "</div>"
      ],
      "text/plain": [
       "            Unnamed: 0   Open   High    Low  Close    Volume  Name\n",
       "Date                                                              \n",
       "2006-01-03         NaN  39.69  41.22  38.79  40.91  24232729  AABA\n",
       "2006-01-04         NaN  41.22  41.90  40.77  40.97  20553479  AABA\n",
       "2006-01-05         NaN  40.93  41.73  40.85  41.53  12829610  AABA\n",
       "2006-01-06         NaN  42.88  43.57  42.80  43.21  29422828  AABA\n",
       "2006-01-09         NaN  43.10  43.66  42.82  43.42  16268338  AABA"
      ]
     },
     "execution_count": 42,
     "metadata": {},
     "output_type": "execute_result"
    }
   ],
   "source": [
    "# reading the dataset using read_csv\n",
    "df = pd.read_csv(\"stock_data.csv\", parse_dates = [1], index_col = \"Date\")\n",
    " \n",
    "# displaying the first five rows of dataset\n",
    "df.head()"
   ]
  },
  {
   "cell_type": "code",
   "execution_count": 43,
   "id": "e253d18d",
   "metadata": {},
   "outputs": [
    {
     "data": {
      "text/html": [
       "<div>\n",
       "<style scoped>\n",
       "    .dataframe tbody tr th:only-of-type {\n",
       "        vertical-align: middle;\n",
       "    }\n",
       "\n",
       "    .dataframe tbody tr th {\n",
       "        vertical-align: top;\n",
       "    }\n",
       "\n",
       "    .dataframe thead th {\n",
       "        text-align: right;\n",
       "    }\n",
       "</style>\n",
       "<table border=\"1\" class=\"dataframe\">\n",
       "  <thead>\n",
       "    <tr style=\"text-align: right;\">\n",
       "      <th></th>\n",
       "      <th>Open</th>\n",
       "      <th>High</th>\n",
       "      <th>Low</th>\n",
       "      <th>Close</th>\n",
       "      <th>Volume</th>\n",
       "      <th>Name</th>\n",
       "    </tr>\n",
       "    <tr>\n",
       "      <th>Date</th>\n",
       "      <th></th>\n",
       "      <th></th>\n",
       "      <th></th>\n",
       "      <th></th>\n",
       "      <th></th>\n",
       "      <th></th>\n",
       "    </tr>\n",
       "  </thead>\n",
       "  <tbody>\n",
       "    <tr>\n",
       "      <th>2006-01-03</th>\n",
       "      <td>39.69</td>\n",
       "      <td>41.22</td>\n",
       "      <td>38.79</td>\n",
       "      <td>40.91</td>\n",
       "      <td>24232729</td>\n",
       "      <td>AABA</td>\n",
       "    </tr>\n",
       "    <tr>\n",
       "      <th>2006-01-04</th>\n",
       "      <td>41.22</td>\n",
       "      <td>41.90</td>\n",
       "      <td>40.77</td>\n",
       "      <td>40.97</td>\n",
       "      <td>20553479</td>\n",
       "      <td>AABA</td>\n",
       "    </tr>\n",
       "    <tr>\n",
       "      <th>2006-01-05</th>\n",
       "      <td>40.93</td>\n",
       "      <td>41.73</td>\n",
       "      <td>40.85</td>\n",
       "      <td>41.53</td>\n",
       "      <td>12829610</td>\n",
       "      <td>AABA</td>\n",
       "    </tr>\n",
       "    <tr>\n",
       "      <th>2006-01-06</th>\n",
       "      <td>42.88</td>\n",
       "      <td>43.57</td>\n",
       "      <td>42.80</td>\n",
       "      <td>43.21</td>\n",
       "      <td>29422828</td>\n",
       "      <td>AABA</td>\n",
       "    </tr>\n",
       "    <tr>\n",
       "      <th>2006-01-09</th>\n",
       "      <td>43.10</td>\n",
       "      <td>43.66</td>\n",
       "      <td>42.82</td>\n",
       "      <td>43.42</td>\n",
       "      <td>16268338</td>\n",
       "      <td>AABA</td>\n",
       "    </tr>\n",
       "    <tr>\n",
       "      <th>...</th>\n",
       "      <td>...</td>\n",
       "      <td>...</td>\n",
       "      <td>...</td>\n",
       "      <td>...</td>\n",
       "      <td>...</td>\n",
       "      <td>...</td>\n",
       "    </tr>\n",
       "    <tr>\n",
       "      <th>2017-12-22</th>\n",
       "      <td>71.42</td>\n",
       "      <td>71.87</td>\n",
       "      <td>71.22</td>\n",
       "      <td>71.58</td>\n",
       "      <td>10979165</td>\n",
       "      <td>AABA</td>\n",
       "    </tr>\n",
       "    <tr>\n",
       "      <th>2017-12-26</th>\n",
       "      <td>70.94</td>\n",
       "      <td>71.39</td>\n",
       "      <td>69.63</td>\n",
       "      <td>69.86</td>\n",
       "      <td>8542802</td>\n",
       "      <td>AABA</td>\n",
       "    </tr>\n",
       "    <tr>\n",
       "      <th>2017-12-27</th>\n",
       "      <td>69.77</td>\n",
       "      <td>70.49</td>\n",
       "      <td>69.69</td>\n",
       "      <td>70.06</td>\n",
       "      <td>6345124</td>\n",
       "      <td>AABA</td>\n",
       "    </tr>\n",
       "    <tr>\n",
       "      <th>2017-12-28</th>\n",
       "      <td>70.12</td>\n",
       "      <td>70.32</td>\n",
       "      <td>69.51</td>\n",
       "      <td>69.82</td>\n",
       "      <td>7556877</td>\n",
       "      <td>AABA</td>\n",
       "    </tr>\n",
       "    <tr>\n",
       "      <th>2017-12-29</th>\n",
       "      <td>69.79</td>\n",
       "      <td>70.13</td>\n",
       "      <td>69.43</td>\n",
       "      <td>69.85</td>\n",
       "      <td>6613070</td>\n",
       "      <td>AABA</td>\n",
       "    </tr>\n",
       "  </tbody>\n",
       "</table>\n",
       "<p>3019 rows × 6 columns</p>\n",
       "</div>"
      ],
      "text/plain": [
       "             Open   High    Low  Close    Volume  Name\n",
       "Date                                                  \n",
       "2006-01-03  39.69  41.22  38.79  40.91  24232729  AABA\n",
       "2006-01-04  41.22  41.90  40.77  40.97  20553479  AABA\n",
       "2006-01-05  40.93  41.73  40.85  41.53  12829610  AABA\n",
       "2006-01-06  42.88  43.57  42.80  43.21  29422828  AABA\n",
       "2006-01-09  43.10  43.66  42.82  43.42  16268338  AABA\n",
       "...           ...    ...    ...    ...       ...   ...\n",
       "2017-12-22  71.42  71.87  71.22  71.58  10979165  AABA\n",
       "2017-12-26  70.94  71.39  69.63  69.86   8542802  AABA\n",
       "2017-12-27  69.77  70.49  69.69  70.06   6345124  AABA\n",
       "2017-12-28  70.12  70.32  69.51  69.82   7556877  AABA\n",
       "2017-12-29  69.79  70.13  69.43  69.85   6613070  AABA\n",
       "\n",
       "[3019 rows x 6 columns]"
      ]
     },
     "execution_count": 43,
     "metadata": {},
     "output_type": "execute_result"
    }
   ],
   "source": [
    "\n",
    "# deleting column\n",
    "df.drop(columns='Unnamed: 0')"
   ]
  },
  {
   "cell_type": "code",
   "execution_count": 44,
   "id": "23749e27",
   "metadata": {},
   "outputs": [
    {
     "data": {
      "text/plain": [
       "<Axes: xlabel='Date'>"
      ]
     },
     "execution_count": 44,
     "metadata": {},
     "output_type": "execute_result"
    },
    {
     "data": {
      "image/png": "[encoded data removed]",
      "text/plain": [
       "<Figure size 640x480 with 1 Axes>"
      ]
     },
     "metadata": {},
     "output_type": "display_data"
    }
   ],
   "source": [
    "df['Volume'].plot()"
   ]
  },
  {
   "cell_type": "code",
   "execution_count": 45,
   "id": "b3b08b88",
   "metadata": {},
   "outputs": [
    {
     "data": {
      "text/plain": [
       "array([<Axes: xlabel='Date'>, <Axes: xlabel='Date'>,\n",
       "       <Axes: xlabel='Date'>, <Axes: xlabel='Date'>,\n",
       "       <Axes: xlabel='Date'>, <Axes: xlabel='Date'>], dtype=object)"
      ]
     },
     "execution_count": 45,
     "metadata": {},
     "output_type": "execute_result"
    },
    {
     "data": {
      "image/png": "[encoded data removed]",
      "text/plain": [
       "<Figure size 400x400 with 6 Axes>"
      ]
     },
     "metadata": {},
     "output_type": "display_data"
    }
   ],
   "source": [
    "\n",
    "df.plot(subplots=True, figsize=(4, 4))"
   ]
  },
  {
   "cell_type": "code",
   "execution_count": 46,
   "id": "b178e197",
   "metadata": {},
   "outputs": [
    {
     "data": {
      "text/plain": [
       "<Axes: xlabel='Date'>"
      ]
     },
     "execution_count": 46,
     "metadata": {},
     "output_type": "execute_result"
    },
    {
     "data": {
      "image/png": "[encoded data removed]",
      "text/plain": [
       "<Figure size 640x480 with 1 Axes>"
      ]
     },
     "metadata": {},
     "output_type": "display_data"
    }
   ],
   "source": [
    "\n",
    "# Finding the trend in the \"Open\"\n",
    "# column using moving average method\n",
    "window_size = 50\n",
    "rolling_mean = df['Open'].rolling\\\n",
    "            (window_size).mean()\n",
    "rolling_mean.plot()"
   ]
  },
  {
   "cell_type": "code",
   "execution_count": null,
   "id": "085d97e4",
   "metadata": {},
   "outputs": [],
   "source": []
  }
 ],
 "metadata": {
  "kernelspec": {
   "display_name": "Python 3 (ipykernel)",
   "language": "python",
   "name": "python3"
  },
  "language_info": {
   "codemirror_mode": {
    "name": "ipython",
    "version": 3
   },
   "file_extension": ".py",
   "mimetype": "text/x-python",
   "name": "python",
   "nbconvert_exporter": "python",
   "pygments_lexer": "ipython3",
   "version": "3.9.16"
  }
 },
 "nbformat": 4,
 "nbformat_minor": 5
}
