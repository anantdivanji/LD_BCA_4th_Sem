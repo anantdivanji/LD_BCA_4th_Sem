{
 "cells": [
  {
   "cell_type": "markdown",
   "id": "b4f1b390",
   "metadata": {},
   "source": [
    "## Loading the standard libraries"
   ]
  },
  {
   "cell_type": "code",
   "execution_count": 1,
   "id": "5437da89",
   "metadata": {},
   "outputs": [],
   "source": [
    "import pandas as pd\n",
    "import numpy as np\n",
    "import matplotlib.pyplot as plt\n",
    "import seaborn as sns\n",
    "import warnings\n",
    "warnings.filterwarnings('ignore')"
   ]
  },
  {
   "cell_type": "markdown",
   "id": "cfc244bc",
   "metadata": {},
   "source": [
    "## Loading the data"
   ]
  },
  {
   "cell_type": "markdown",
   "id": "9a7ac88b",
   "metadata": {},
   "source": [
    "## Step 3 : Data Preprocessing"
   ]
  },
  {
   "cell_type": "markdown",
   "id": "50d8599c",
   "metadata": {},
   "source": [
    "## Observations:\n",
    "\n",
    "1. No object variables hence no encoding for this data\n",
    "2. Feature Scaling is necessary for this data as some variables are not on same scale"
   ]
  },
  {
   "cell_type": "markdown",
   "id": "0c05288b",
   "metadata": {},
   "source": [
    "## Feature Scaling"
   ]
  },
  {
   "cell_type": "markdown",
   "id": "083decfc",
   "metadata": {},
   "source": [
    "## Step 4 : Seperate X and y"
   ]
  },
  {
   "cell_type": "markdown",
   "id": "b20596d5",
   "metadata": {},
   "source": [
    "## Step 5 : Split the data into train test split"
   ]
  },
  {
   "cell_type": "markdown",
   "id": "c3ef17a4",
   "metadata": {},
   "source": [
    "## Step 6 : Apply Logistic Regression on X_train and y_train"
   ]
  },
  {
   "cell_type": "markdown",
   "id": "99d17a77",
   "metadata": {},
   "source": [
    "## Step 7: Perform predictions"
   ]
  },
  {
   "cell_type": "markdown",
   "id": "70606f29",
   "metadata": {},
   "source": [
    "## Perform Evaluation"
   ]
  },
  {
   "cell_type": "code",
   "execution_count": null,
   "id": "cd5e18da",
   "metadata": {},
   "outputs": [],
   "source": []
  }
 ],
 "metadata": {
  "kernelspec": {
   "display_name": "Python 3 (ipykernel)",
   "language": "python",
   "name": "python3"
  },
  "language_info": {
   "codemirror_mode": {
    "name": "ipython",
    "version": 3
   },
   "file_extension": ".py",
   "mimetype": "text/x-python",
   "name": "python",
   "nbconvert_exporter": "python",
   "pygments_lexer": "ipython3",
   "version": "3.9.16"
  }
 },
 "nbformat": 4,
 "nbformat_minor": 5
}
